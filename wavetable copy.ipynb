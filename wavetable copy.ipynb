{
 "cells": [
  {
   "cell_type": "code",
   "execution_count": 256,
   "metadata": {},
   "outputs": [],
   "source": [
    "# Imports\n",
    "import soundfile as sf\n",
    "import numpy as np\n",
    "import pyloudnorm as pyln"
   ]
  },
  {
   "cell_type": "markdown",
   "metadata": {},
   "source": []
  },
  {
   "cell_type": "code",
   "execution_count": 257,
   "metadata": {},
   "outputs": [],
   "source": [
    "# get files in folder\n",
    "import os\n",
    "import glob\n",
    "\n",
    "# SampleRate      \n",
    "Fs = 48000\n",
    "\n",
    "# Desired Wavetable size\n",
    "numberOfFrames = 2\n",
    "tableSize = 2048 * numberOfFrames\n",
    "\n",
    "# Folder path to soundfiles\n",
    "baseFolder = os.getcwd() + \"/soundfiles\"\n",
    "\n",
    "# Output folder\n",
    "outFolder = os.getcwd() + \"/ouput\"\n",
    "\n",
    "# get all files in folder\n",
    "files = glob.glob(baseFolder + \"/*.wav\")\n",
    "numFiles = len(files)\n"
   ]
  },
  {
   "cell_type": "code",
   "execution_count": 258,
   "metadata": {},
   "outputs": [],
   "source": [
    "# measure the loudness first \n",
    "meter = pyln.Meter(Fs) # create BS.1770 meter  \n",
    "\n",
    "# clear output directory\n",
    "def clearOutputFolder():\n",
    "    for file in glob.glob(outFolder + \"/*.wav\"):\n",
    "        os.remove(file)\n",
    "\n",
    "# Pick random file from the file array\n",
    "def pickRandomFile(fileArray):\n",
    "    # Check if array is empty\n",
    "    if len(fileArray) == 0:\n",
    "        return \"No files in folder\"\n",
    "    \n",
    "    randomFile = np.random.randint(0, len(fileArray))\n",
    "    return fileArray[randomFile]\n",
    "\n",
    "# Read file and return data\n",
    "def getFileData(Fs, file):\n",
    "    # Check if file exists\n",
    "    if not os.path.isfile(file):\n",
    "        return \"File does not exist\"\n",
    "    \n",
    "    data, Fs = sf.read(file)\n",
    "    return data\n",
    "\n",
    "def fade(data, fadeLength, Fs):\n",
    "    # check if data is empty\n",
    "    if len(data) == 0:\n",
    "        return \"No audio data to fade\"\n",
    "    \n",
    "    fade = np.linspace(1, 0, fadeLength)\n",
    "    for i in range(data.shape[1]):  # apply fade to each channel\n",
    "        data[:fadeLength, i] = data[:fadeLength, i] * fade\n",
    "        data[-fadeLength:, i] = data[-fadeLength:, i] * fade[::-1]\n",
    "    return data\n"
   ]
  },
  {
   "cell_type": "code",
   "execution_count": 259,
   "metadata": {},
   "outputs": [],
   "source": [
    "# Write table to file, normalize to -12dB\n",
    "def write_table(samplerate, audioData, audioLength, tableLength, tableName):\n",
    "    # Check if audio data is empty\n",
    "    if len(audioData) == 0:\n",
    "        return \"No audio data to write\"\n",
    "    \n",
    "    if audioLength <= tableLength:\n",
    "        raise ValueError(\"Audio Data length must be greater than the table data length. \" \n",
    "                         \"Possibly emptx audio data! \"\n",
    "                         \"Do you have any audio files in your soundfiles folder? \")\n",
    "    \n",
    "    randomStart = np.random.randint(0, audioLength - tableLength)\n",
    "    table = np.zeros(tableLength)\n",
    "    \n",
    "    for n in range(tableLength):\n",
    "        table[n], buffer = audioData[randomStart + n]\n",
    "    \n",
    "    loudness = meter.integrated_loudness(audioData)\n",
    "    pyln.normalize.loudness(table, loudness, -12.0)\n",
    "\n",
    "    fade(audioData, 10, Fs)\n",
    "    sf.write(tableName, table, samplerate)\n",
    "\n",
    "# Finally we can generate the wavetables\n",
    "def generate_experimental_wavetables(samplerate, numOutputFiles):\n",
    "    # Check if folder exists\n",
    "    if not os.path.isdir(outFolder):\n",
    "        os.mkdir(outFolder)\n",
    "\n",
    "    clearOutputFolder()\n",
    "        \n",
    "    file = pickRandomFile(files)\n",
    "    audioData = getFileData(samplerate, file)\n",
    "    numSamples = len(audioData)\n",
    "\n",
    "    for i in range(numOutputFiles):\n",
    "        write_table(Fs, audioData, numSamples, tableSize, 'output/table_'+str(i)+'.wav')\n",
    "\n",
    "    \n"
   ]
  },
  {
   "cell_type": "code",
   "execution_count": 260,
   "metadata": {},
   "outputs": [],
   "source": [
    "## Run the script\n",
    "generate_experimental_wavetables(Fs, 10)"
   ]
  }
 ],
 "metadata": {
  "kernelspec": {
   "display_name": "Python 3",
   "language": "python",
   "name": "python3"
  },
  "language_info": {
   "codemirror_mode": {
    "name": "ipython",
    "version": 3
   },
   "file_extension": ".py",
   "mimetype": "text/x-python",
   "name": "python",
   "nbconvert_exporter": "python",
   "pygments_lexer": "ipython3",
   "version": "3.12.1"
  }
 },
 "nbformat": 4,
 "nbformat_minor": 2
}
